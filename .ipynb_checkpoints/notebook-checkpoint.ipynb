{
 "cells": [
  {
   "cell_type": "markdown",
   "id": "accepted-watershed",
   "metadata": {},
   "source": [
    "# Résolution de système linéaire par la méthode du pivot de Gauss"
   ]
  },
  {
   "cell_type": "markdown",
   "id": "selective-confidence",
   "metadata": {},
   "source": [
    "## Les étapes du solveur:\n",
    "* Lecture du fichier en entrée\n",
    "* Création de la matrice augmentée stockant le système linéaire\n",
    "* Sélection du pivot (maximum de la diagonale)\n",
    "* Propagation du pivot sur les lignes concernées\n",
    "* Résolution du problème linéaire\n",
    "* Ecriture du résultat finale dans un fichier en sortie"
   ]
  },
  {
   "cell_type": "markdown",
   "id": "pediatric-trust",
   "metadata": {},
   "source": [
    "## 1. Lecture du fichier en entrée"
   ]
  },
  {
   "cell_type": "markdown",
   "id": "moving-montana",
   "metadata": {},
   "source": [
    "La lecture du fichier ce fait à partir des outils de la librairie standard du C, grâce aux fonctions de **stdio.h** permettant la lecture d'un fichier. Cette lecture est ici faite élément par élément dans un fichier structuré de la façon suivante:\n",
    "<br>\n",
    "format du fichier d'entrée:\n",
    "* n : nombre d'inconnues\n",
    "* n lignes d'équations (n + 1 élements par lignes, séparation par un espace)\n",
    "\n",
    "exemple: <br>\n",
    "2<br>\n",
    "2 1 5<br>\n",
    "4 -6 -20<br>"
   ]
  },
  {
   "cell_type": "markdown",
   "id": "african-trailer",
   "metadata": {},
   "source": [
    "## 2. Création de la matrice augmentée stockant le système linaire"
   ]
  },
  {
   "cell_type": "markdown",
   "id": "severe-windows",
   "metadata": {},
   "source": [
    "Nous stockons le système linaire, lu à partir du fichier d'entrée, au sein de la structure suivante:\n",
    "<br>\n",
    "```C\n",
    "/// @brief linear system wrapper structure which contains the system matrix as a 1D array (data) \n",
    "///        and a pointer array (storage) to facilitate access to elements inside the linear system matrix\n",
    "typedef struct linear_system_t {\n",
    "    int nb_unknowns;\n",
    "    double * data;\n",
    "    double ** storage;\n",
    "} linear_system_t;\n",
    "```"
   ]
  },
  {
   "cell_type": "markdown",
   "id": "pharmaceutical-stock",
   "metadata": {},
   "source": [
    "Cette façon de stocker notre système linéaire nous permet dans un permier temps d'acceder aux dimenssions de la matrice augmentée, à partir du premier membre de la structure **nb_unknowns**. De plus, nous pouvons stocker dans cette même structure à l'intérieur d'un tableau unidimensionnel **data** dans lequel tous les coefficients seront stockées séquentiellement. L'ordonancement de nos indices sous forme matricielle au sein du tableau 1D **data** ce fait à partir du tableau de pointeur **storage** qui nous permet d'acceder au élément de **data** comme un tableau bidimensionnel. Les avantages de ce stockage nous permet d'éviter de faire trop d'appel d'allocation dynamique de mémoire par **malloc**, et par conséquent de faire une économisation mémoire."
   ]
  },
  {
   "cell_type": "markdown",
   "id": "amber-investment",
   "metadata": {},
   "source": [
    "## 3. Sélection du pivot (maximum de la diagonale)"
   ]
  },
  {
   "cell_type": "markdown",
   "id": "accompanied-wedding",
   "metadata": {},
   "source": [
    "La stratégie de sélection du pivot est une étape cruciale dans la résolution par méthode de Gauss. Nous utilisons une méthode de pivot partiel, dans laquel nous sélectionnons la valeur la plus grande sur la diagonale. L'algorithme de propagation, vu plus tard, itère sur les lignes de notre système linéaire de la première à la dernière ligne. Il nous faut alors selectionner un nouveau pivot pour chaque ligne parcourue.<br>\n",
    "Cette sélection de pivot sur la chaque ligne est décrite dans l'algorithme suivant:"
   ]
  },
  {
   "cell_type": "markdown",
   "id": "hazardous-entertainment",
   "metadata": {},
   "source": [
    "```C\n",
    "/// @brief Finds the pivot used in the currently provided linear system using a partial pivot strategy\n",
    "/// @param linear_system the linear system\n",
    "/// @param current_line\n",
    "/// @param pivot_line\n",
    "/// @return the pivot\n",
    "double select_current_pivot(linear_system_t *linear_system, int current_line, int *pivot_line)\n",
    "{\n",
    "    int y;\n",
    "\n",
    "    int nb_matrix_rows = linear_system->nb_unknowns;\n",
    "\n",
    "    double pivot = 0;\n",
    "    double p = linear_system->storage[current_line][current_line]; // pivot in diagonal\n",
    "    double abs_val;\n",
    "    double col_val;\n",
    "    double p_abs;\n",
    "    for (y = current_line + 1; y < nb_matrix_rows; y++)            // check for max value in same column\n",
    "    {\n",
    "        col_val = linear_system->storage[y][current_line];\n",
    "        abs_val = fabs(col_val); //check if the absolute value of the pivot coefficient to be selected\n",
    "        p_abs = fabs(p);\n",
    "        pivot = MAX(p_abs, abs_val);\n",
    "        if(p_abs != pivot) *pivot_line = y; //if the current pivot is updated, we update the line the pivot is on\n",
    "        p = (pivot == abs_val) ? col_val : p;\n",
    "    }\n",
    "\n",
    "    return p;\n",
    "}\n",
    "```"
   ]
  },
  {
   "cell_type": "markdown",
   "id": "expressed-facial",
   "metadata": {},
   "source": [
    "Décrivons plus en détail cette fonction C. Nous sélectionnons d'abord comme valeur pivot le coefficient positionner sur la diagonnale de la ligne traité. Il nous suffit ensuite de regarder les coefficients se trouvant sur la même colonne du pivot actuel, sous celui-ci. Nous effectuons une comparaison (fonction **MAX**) par valeur absolue du pivot actuelle avec les valeurs sous celui-ci, ceci afin de sélectionner à la fin la valeur comme pivot la plus grande possible afin d'assurer une certaine stabilité numérique. Dans le cas où le pivot actuelle à été mise à jour, nous enregistrons alors la ligne sur laquelle ce nouveau coefficient se positionne."
   ]
  },
  {
   "cell_type": "markdown",
   "id": "fifty-stationery",
   "metadata": {},
   "source": [
    "## 4. Propagation du pivot sur les lignes concernées"
   ]
  },
  {
   "cell_type": "markdown",
   "id": "prerequisite-rhythm",
   "metadata": {},
   "source": [
    "Comme mentionnée précédemment, l'algorithme de propagation du pivot boucle sur chacune des lignes du système linéaire itérativement. Ce processus se retrouve dans le bloc de suivant, définissant cette algorithme de propagation écrit en C:"
   ]
  },
  {
   "cell_type": "markdown",
   "id": "closed-minneapolis",
   "metadata": {},
   "source": [
    "```C\n",
    "void linear_system_propagation(linear_system_t *linear_system)\n",
    "{\n",
    "    int curr_line;\n",
    "    int nb_matrix_rows = linear_system->nb_unknowns;\n",
    "    double pivot;\n",
    "    int pivot_line;\n",
    "\n",
    "    //loop iterativly over each row of the linear system matrix\n",
    "    for (curr_line = 0; curr_line < nb_matrix_rows; curr_line++)\n",
    "    {\n",
    "        pivot_line = curr_line;\n",
    "        \n",
    "        // selection du pivot pour chaque ligne de la matrice augmentée du systeme lineaire\n",
    "        pivot = select_current_pivot(linear_system, curr_line, &pivot_line);\n",
    "\n",
    "        // changement de ligne pour que le pivot soit sur la diagonale\n",
    "        if (pivot_line != curr_line)\n",
    "        {\n",
    "            swap_linear_system_rows(linear_system, curr_line, pivot_line);\n",
    "        }\n",
    "\n",
    "        // pivotage de la matrice\n",
    "        apply_pivot(linear_system, curr_line);\n",
    "    }\n",
    "}\n",
    "```"
   ]
  },
  {
   "cell_type": "markdown",
   "id": "absent-olive",
   "metadata": {},
   "source": [
    "Dans cette fonction, on va itérer sur chacune des lignes de notre matrice dans laquelle on va sélectionner le pivot, et si on constate que l'on a un coefficient trouvée plus grand dans la colonne du pivot sélectionnée , on va alors pouvoir échanger la ligne actuelle avec la ligne qui a un plus grand coefficient, on peut alors effectuer le pivotage de la matrice."
   ]
  },
  {
   "cell_type": "markdown",
   "id": "controlling-stranger",
   "metadata": {},
   "source": [
    "## 5. Résolution du problème linéaire"
   ]
  },
  {
   "cell_type": "code",
   "execution_count": null,
   "id": "french-playing",
   "metadata": {},
   "outputs": [],
   "source": []
  },
  {
   "cell_type": "code",
   "execution_count": null,
   "id": "based-glossary",
   "metadata": {},
   "outputs": [],
   "source": []
  },
  {
   "cell_type": "markdown",
   "id": "arranged-contamination",
   "metadata": {},
   "source": [
    "## 6. Ecriture du résultat finale dans un fichier en sortie"
   ]
  },
  {
   "cell_type": "code",
   "execution_count": null,
   "id": "wooden-cooperation",
   "metadata": {},
   "outputs": [],
   "source": []
  },
  {
   "cell_type": "code",
   "execution_count": null,
   "id": "looking-anger",
   "metadata": {},
   "outputs": [],
   "source": []
  },
  {
   "cell_type": "markdown",
   "id": "literary-location",
   "metadata": {},
   "source": [
    "# Execution du script de résolution de système linaire"
   ]
  },
  {
   "cell_type": "code",
   "execution_count": 2,
   "id": "surprising-moldova",
   "metadata": {},
   "outputs": [
    {
     "name": "stdout",
     "output_type": "stream",
     "text": [
      "Loading gcc/10.2.0_spack2021_gcc-10.2.0-gdnn\n",
      "  Loading requirement: gmp/6.1.2_spack2021_gcc-10.2.0-z76c\n",
      "    isl/0.21_spack2021_gcc-10.2.0-jjlz mpfr/4.0.2_spack2021_gcc-10.2.0-glhn\n",
      "    mpc/1.1.0_spack2021_gcc-10.2.0-bzdh zstd/1.4.5_spack2021_gcc-10.2.0-ak7l\n",
      "Delete objects, temporary files...\n",
      "Done.\n",
      "Create objects...\n",
      "Create executables...\n",
      "Done.\n",
      "Starting ./main...\n",
      "Matrice augmentée générée:\n",
      "2.000      1.000      0.000      4.000      2.000      1.000      0.000      4.000      2.000      1.000      1.000      \n",
      "-4.000     -2.000     3.000      -7.000     -4.000     -2.000     3.000      -7.000     -4.000     1.000      4.000      \n",
      "4.000      1.000      -2.000     8.000      0.000      -3.000     -12.000    -1.000     8.000      7.000      5.000      \n",
      "0.000      -3.000     -12.000    -1.000     1.000      0.000      4.000      2.000      1.000      0.000      7.000      \n",
      "2.000      1.000      -2.000     8.000      0.000      -3.000     0.000      -3.000     -12.000    -1.000     5.000      \n",
      "1.000      -2.000     8.000      0.000      -3.000     -12.000    -1.000     8.000      7.000      -9.000     3.000      \n",
      "2.000      4.000      1.000      -2.000     8.000      0.000      -3.000     -12.000    -1.000     8.000      13.000     \n",
      "0.000      -3.000     -12.000    -1.000     1.000      0.000      4.000      2.000      1.000      2.000      5.000      \n",
      "1.000      0.000      4.000      2.000      1.000      0.000      1.000      -2.000     8.000      0.000      5.000      \n",
      "-12.000    -1.000     1.000      0.000      4.000      2.000      1.000      0.000      1.000      -2.000     4.000      \n",
      "Start of the linear solver triangulation...\n",
      "\n",
      "[Ligne #0] Valeur de pivot trouvée: -12.000 à la ligne 9\n",
      "\n",
      "[Ligne #1] Valeur de pivot trouvée: 3.833 à la ligne 6\n",
      "\n",
      "[Ligne #2] Valeur de pivot trouvée: -11.087 à la ligne 3\n",
      "\n",
      "[Ligne #3] Valeur de pivot trouvée: 8.918 à la ligne 4\n",
      "\n",
      "[Ligne #4] Valeur de pivot trouvée: 7.229 à la ligne 5\n",
      "\n",
      "[Ligne #5] Valeur de pivot trouvée: 8.673 à la ligne 8\n",
      "\n",
      "[Ligne #6] Valeur de pivot trouvée: -12.358 à la ligne 8\n",
      "\n",
      "[Ligne #7] Valeur de pivot trouvée: -15.959 à la ligne 8\n",
      "\n",
      "[Ligne #8] Valeur de pivot trouvée: -0.089 à la ligne 9\n",
      "\n",
      "[Ligne #9] Valeur de pivot trouvée: 2.000 à la ligne 9\n",
      "x1 = 111.491\n",
      "x2 = -513.510\n",
      "x3 = 104.707\n",
      "x4 = -8.444\n",
      "x5 = 178.075\n",
      "x6 = 90.977\n",
      "x7 = -100.789\n",
      "x8 = 5.691\n",
      "x9 = -71.792\n",
      "x10 = -1.000\n",
      "-----------------------------------------------------\n",
      " Total solver runtime: 0.000006 seconds\n",
      "-----------------------------------------------------\n",
      "Starting ./main...\n",
      "Matrice augmentée générée:\n",
      "2.000      1.000      0.000      4.000      2.000      1.000      0.000      4.000      2.000      1.000      1.000      \n",
      "-4.000     -2.000     3.000      -7.000     -4.000     -2.000     3.000      -7.000     -4.000     1.000      4.000      \n",
      "4.000      1.000      -2.000     8.000      0.000      -3.000     -12.000    -1.000     8.000      7.000      5.000      \n",
      "0.000      -3.000     -12.000    -1.000     1.000      0.000      4.000      2.000      1.000      0.000      7.000      \n",
      "2.000      1.000      -2.000     8.000      0.000      -3.000     0.000      -3.000     -12.000    -1.000     5.000      \n",
      "1.000      -2.000     8.000      0.000      -3.000     -12.000    -1.000     8.000      7.000      -9.000     3.000      \n",
      "2.000      4.000      1.000      -2.000     8.000      0.000      -3.000     -12.000    -1.000     8.000      13.000     \n",
      "0.000      -3.000     -12.000    -1.000     1.000      0.000      4.000      2.000      1.000      2.000      5.000      \n",
      "1.000      0.000      4.000      2.000      1.000      0.000      1.000      -2.000     8.000      0.000      5.000      \n",
      "-12.000    -1.000     1.000      0.000      4.000      2.000      1.000      0.000      1.000      -2.000     4.000      \n",
      "Start of the linear solver triangulation...\n",
      "\n",
      "[Ligne #0] Valeur de pivot trouvée: -12.000 à la ligne 9\n",
      "\n",
      "[Ligne #1] Valeur de pivot trouvée: 3.833 à la ligne 6\n",
      "\n",
      "[Ligne #2] Valeur de pivot trouvée: -11.087 à la ligne 3\n",
      "\n",
      "[Ligne #3] Valeur de pivot trouvée: 8.918 à la ligne 4\n",
      "\n",
      "[Ligne #4] Valeur de pivot trouvée: 7.229 à la ligne 5\n",
      "\n",
      "[Ligne #5] Valeur de pivot trouvée: 8.673 à la ligne 8\n",
      "\n",
      "[Ligne #6] Valeur de pivot trouvée: -12.358 à la ligne 8\n",
      "\n",
      "[Ligne #7] Valeur de pivot trouvée: -15.959 à la ligne 8\n",
      "\n",
      "[Ligne #8] Valeur de pivot trouvée: -0.089 à la ligne 9\n",
      "\n",
      "[Ligne #9] Valeur de pivot trouvée: 2.000 à la ligne 9\n",
      "x1 = 111.491\n",
      "x2 = -513.510\n",
      "x3 = 104.707\n",
      "x4 = -8.444\n",
      "x5 = 178.075\n",
      "x6 = 90.977\n",
      "x7 = -100.789\n",
      "x8 = 5.691\n",
      "x9 = -71.792\n",
      "x10 = -1.000\n",
      "-----------------------------------------------------\n",
      " Total solver runtime: 0.008864 seconds\n",
      "-----------------------------------------------------\n"
     ]
    },
    {
     "name": "stderr",
     "output_type": "stream",
     "text": [
      "==2994== Memcheck, a memory error detector\n",
      "==2994== Copyright (C) 2002-2017, and GNU GPL'd, by Julian Seward et al.\n",
      "==2994== Using Valgrind-3.13.0 and LibVEX; rerun with -h for copyright info\n",
      "==2994== Command: ./main 10x10_linear_system.txt\n",
      "==2994== \n",
      "==2994== \n",
      "==2994== HEAP SUMMARY:\n",
      "==2994==     in use at exit: 0 bytes in 0 blocks\n",
      "==2994==   total heap usage: 5 allocs, 5 frees, 2,176 bytes allocated\n",
      "==2994== \n",
      "==2994== All heap blocks were freed -- no leaks are possible\n",
      "==2994== \n",
      "==2994== For counts of detected and suppressed errors, rerun with: -v\n",
      "==2994== ERROR SUMMARY: 0 errors from 0 contexts (suppressed: 0 from 0)\n"
     ]
    }
   ],
   "source": [
    "%%bash\n",
    "module load gcc/10.2.0_spack2021_gcc-10.2.0-gdnn\n",
    "module load 2018/valgrind/3.13.0\n",
    "make clean && make\n",
    "./main \"10x10_linear_system.txt\"\n",
    "valgrind ./main \"10x10_linear_system.txt\""
   ]
  }
 ],
 "metadata": {
  "kernelspec": {
   "display_name": "Python 3",
   "language": "python",
   "name": "python3"
  },
  "language_info": {
   "codemirror_mode": {
    "name": "ipython",
    "version": 3
   },
   "file_extension": ".py",
   "mimetype": "text/x-python",
   "name": "python",
   "nbconvert_exporter": "python",
   "pygments_lexer": "ipython3",
   "version": "3.8.6"
  }
 },
 "nbformat": 4,
 "nbformat_minor": 5
}

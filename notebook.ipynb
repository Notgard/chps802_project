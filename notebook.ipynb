{
 "cells": [
  {
   "cell_type": "markdown",
   "id": "accepted-watershed",
   "metadata": {},
   "source": [
    "# Résolution de système linéaire par la méthode du pivot de Gauss"
   ]
  },
  {
   "cell_type": "markdown",
   "id": "selective-confidence",
   "metadata": {},
   "source": [
    "## Les étapes du solveur:\n",
    "* Lecture du fichier en entrée\n",
    "* Création de la matrice augmentée stockant le système linéaire\n",
    "* Sélection du pivot (maximum de la diagonale)\n",
    "* Propagation du pivot sur les lignes concernées\n",
    "* Résolution du problème linéaire\n",
    "* Ecriture du résultat finale dans un fichier en sortie\n",
    "* Génération de grandes matrices de tests"
   ]
  },
  {
   "cell_type": "markdown",
   "id": "pediatric-trust",
   "metadata": {},
   "source": [
    "## 1. Lecture du fichier en entrée"
   ]
  },
  {
   "cell_type": "markdown",
   "id": "moving-montana",
   "metadata": {},
   "source": [
    "La lecture du fichier ce fait à partir des outils de la librairie standard du C, grâce aux fonctions de **stdio.h** permettant la lecture d'un fichier. Cette lecture est ici faite élément par élément dans un fichier structuré de la façon suivante:\n",
    "<br>\n",
    "format du fichier d'entrée:\n",
    "* n : nombre d'inconnues\n",
    "* n lignes d'équations (n + 1 élements par lignes, séparation par un espace)\n",
    "\n",
    "exemple: <br>\n",
    "2<br>\n",
    "2 1 5<br>\n",
    "4 -6 -20<br>"
   ]
  },
  {
   "cell_type": "markdown",
   "id": "african-trailer",
   "metadata": {},
   "source": [
    "## 2. Création de la matrice augmentée stockant le système linaire"
   ]
  },
  {
   "cell_type": "markdown",
   "id": "severe-windows",
   "metadata": {},
   "source": [
    "Nous stockons le système linaire, lu à partir du fichier d'entrée, au sein de la structure suivante:\n",
    "<br>\n",
    "```C\n",
    "/// @brief linear system wrapper structure which contains the system matrix as a 1D array (data) \n",
    "///        and a pointer array (storage) to facilitate access to elements inside the linear system matrix\n",
    "typedef struct linear_system_t {\n",
    "    int nb_unknowns;\n",
    "    double * data;\n",
    "    double ** storage;\n",
    "} linear_system_t;\n",
    "```"
   ]
  },
  {
   "cell_type": "markdown",
   "id": "pharmaceutical-stock",
   "metadata": {},
   "source": [
    "Cette façon de stocker notre système linéaire nous permet dans un permier temps d'acceder aux dimenssions de la matrice augmentée, à partir du premier membre de la structure **nb_unknowns**. De plus, nous pouvons stocker dans cette même structure à l'intérieur d'un tableau unidimensionnel **data** dans lequel tous les coefficients seront stockées séquentiellement. L'ordonancement de nos indices sous forme matricielle au sein du tableau 1D **data** ce fait à partir du tableau de pointeur **storage** qui nous permet d'acceder au élément de **data** comme un tableau bidimensionnel. Les avantages de ce stockage nous permet d'éviter de faire trop d'appel d'allocation dynamique de mémoire par **malloc**, et par conséquent de faire une économisation mémoire."
   ]
  },
  {
   "cell_type": "markdown",
   "id": "amber-investment",
   "metadata": {},
   "source": [
    "## 3. Sélection du pivot (maximum de la diagonale)"
   ]
  },
  {
   "cell_type": "markdown",
   "id": "accompanied-wedding",
   "metadata": {},
   "source": [
    "La stratégie de sélection du pivot est une étape cruciale dans la résolution par méthode de Gauss. Nous utilisons une méthode de pivot partiel, dans laquel nous sélectionnons la valeur la plus grande sur la diagonale. L'algorithme de propagation, vu plus tard, itère sur les lignes de notre système linéaire de la première à la dernière ligne. Il nous faut alors selectionner un nouveau pivot pour chaque ligne parcourue.<br>\n",
    "Cette sélection de pivot sur la chaque ligne est décrite dans l'algorithme suivant:"
   ]
  },
  {
   "cell_type": "markdown",
   "id": "hazardous-entertainment",
   "metadata": {},
   "source": [
    "```C\n",
    "/// @brief Finds the pivot used in the currently provided linear system using a partial pivot strategy\n",
    "/// @param linear_system the linear system\n",
    "/// @param current_line\n",
    "/// @param pivot_line\n",
    "/// @return the pivot\n",
    "double select_current_pivot(linear_system_t *linear_system, int current_line, int *pivot_line)\n",
    "{\n",
    "    int y;\n",
    "\n",
    "    int nb_matrix_rows = linear_system->nb_unknowns;\n",
    "\n",
    "    double pivot = 0;\n",
    "    double p = linear_system->storage[current_line][current_line]; // pivot in diagonal\n",
    "    double abs_val;\n",
    "    double col_val;\n",
    "    double p_abs;\n",
    "    for (y = current_line + 1; y < nb_matrix_rows; y++)            // check for max value in same column\n",
    "    {\n",
    "        col_val = linear_system->storage[y][current_line];\n",
    "        abs_val = fabs(col_val); //check if the absolute value of the pivot coefficient to be selected\n",
    "        p_abs = fabs(p);\n",
    "        pivot = MAX(p_abs, abs_val);\n",
    "        if(p_abs != pivot) *pivot_line = y; //if the current pivot is updated, we update the line the pivot is on\n",
    "        p = (pivot == abs_val) ? col_val : p;\n",
    "    }\n",
    "\n",
    "    return p;\n",
    "}\n",
    "```"
   ]
  },
  {
   "cell_type": "markdown",
   "id": "expressed-facial",
   "metadata": {},
   "source": [
    "Décrivons plus en détail cette fonction C. Nous sélectionnons d'abord comme valeur pivot le coefficient positionner sur la diagonnale de la ligne traité. Il nous suffit ensuite de regarder les coefficients se trouvant sur la même colonne du pivot actuel, sous celui-ci. Nous effectuons une comparaison (fonction **MAX**) par valeur absolue du pivot actuelle avec les valeurs sous celui-ci, ceci afin de sélectionner à la fin la valeur comme pivot la plus grande possible afin d'assurer une certaine stabilité numérique. Dans le cas où le pivot actuelle à été mise à jour, nous enregistrons alors la ligne sur laquelle ce nouveau coefficient se positionne."
   ]
  },
  {
   "cell_type": "markdown",
   "id": "fifty-stationery",
   "metadata": {},
   "source": [
    "## 4. Propagation du pivot sur les lignes concernées"
   ]
  },
  {
   "cell_type": "markdown",
   "id": "prerequisite-rhythm",
   "metadata": {},
   "source": [
    "Comme mentionnée précédemment, l'algorithme de propagation du pivot boucle sur chacune des lignes du système linéaire itérativement. Ce processus se retrouve dans le bloc de suivant, définissant cette algorithme de propagation écrit en C:"
   ]
  },
  {
   "cell_type": "markdown",
   "id": "closed-minneapolis",
   "metadata": {},
   "source": [
    "```C\n",
    "void linear_system_propagation(linear_system_t *linear_system)\n",
    "{\n",
    "    int curr_line;\n",
    "    int nb_matrix_rows = linear_system->nb_unknowns;\n",
    "    double pivot;\n",
    "    int pivot_line;\n",
    "\n",
    "    //loop iterativly over each row of the linear system matrix\n",
    "    for (curr_line = 0; curr_line < nb_matrix_rows; curr_line++)\n",
    "    {\n",
    "        pivot_line = curr_line;\n",
    "        \n",
    "        // selection du pivot pour chaque ligne de la matrice augmentée du systeme lineaire\n",
    "        pivot = select_current_pivot(linear_system, curr_line, &pivot_line);\n",
    "\n",
    "        // changement de ligne pour que le pivot soit sur la diagonale\n",
    "        if (pivot_line != curr_line)\n",
    "        {\n",
    "            swap_linear_system_rows(linear_system, curr_line, pivot_line);\n",
    "        }\n",
    "\n",
    "        // pivotage de la matrice\n",
    "        apply_pivot(linear_system, curr_line);\n",
    "    }\n",
    "}\n",
    "```"
   ]
  },
  {
   "cell_type": "markdown",
   "id": "absent-olive",
   "metadata": {},
   "source": [
    "Dans cette fonction, nous itérons sur chacune des lignes de notre matrice dans laquelle on nous sélectionnons le pivot, et si on constate que l'on a un coefficient trouvée plus grand dans la colonne du pivot sélectionnée, nous pouvons alors échanger la ligne actuelle avec la ligne qui a un plus grand coefficient. Dès lors, nous pouvons alors effectuer le pivotage de la matrice."
   ]
  },
  {
   "cell_type": "markdown",
   "id": "controlling-stranger",
   "metadata": {},
   "source": [
    "## 5. Résolution du problème linéaire"
   ]
  },
  {
   "cell_type": "markdown",
   "id": "bb607e02",
   "metadata": {},
   "source": [
    "Avant d'obtenir les solutions potentieles du problème linéaire, nous devons d'abord appliquer le pivot trouver durant les étapes précédentes et le propager sur les lignes sous la ligne du pivot. Cette application du pivot s'effectue à partir de la fonction suivante:\n",
    "<br>\n",
    "```C\n",
    "/// @brief Application de la technique de pivot\n",
    "/// @param linear_system le système linéaire\n",
    "/// @param pivot_line la ligne du pivot choisi dans le système linéaire\n",
    "void apply_pivot(linear_system_t *linear_system, int pivot_line)\n",
    "{\n",
    "    int i, j;\n",
    "\n",
    "    int nb_matrix_rows = linear_system->nb_unknowns;\n",
    "\n",
    "    double pivot = linear_system->storage[pivot_line][pivot_line];\n",
    "    //propagation du pivot sur les lignes en dessous\n",
    "    for (i = pivot_line + 1; i < nb_matrix_rows; i++) \n",
    "    {\n",
    "        //propagation du pivot sur les coefficient de chaque lignes\n",
    "        for (j = pivot_line + 1; j <= nb_matrix_rows; j++) \n",
    "        {\n",
    "            // A[i][j] = A[i][j] - ( (A[i][pi] / A[pi][pi]) * A[pi][j] )\n",
    "            linear_system->storage[i][j] = linear_system->storage[i][j] - ((linear_system->storage[i][pivot_line] / pivot) * linear_system->storage[pivot_line][j]);\n",
    "        }\n",
    "        linear_system->storage[i][pivot_line] = 0;\n",
    "    }\n",
    "}\n",
    "```"
   ]
  },
  {
   "cell_type": "markdown",
   "id": "based-glossary",
   "metadata": {},
   "source": [
    "À l'intérieur de l'algorithme, nous avons une double boucle (for) imbriquée parcourant chaque coefficient de la matrice en commençant à la ligne et colonne +1 de la ligne de pivot (le pivot se trouvant sur la diagonale). En outre, ces itérations visent à mettre à jour les coefficients des variables dans chaque ligne sous le pivot. \n",
    "<br>\n",
    "Après avoir mis à jour tous les coefficients dans une ligne, la colonne où se trouve le pivot est remise à zéro dans cette ligne (sauf pour la ligne du pivot) pour éviter les calculs inutiles lors des itérations ultérieures.\n"
   ]
  },
  {
   "cell_type": "markdown",
   "id": "8ac356da",
   "metadata": {},
   "source": [
    "---\n",
    "Dorénavant, nous avons une fonction qui nous permet d'effectuer la triangulation de la matrice donnée en entrée avec un algorithme basique de compléxité O(n^3). La dernière étape étant de résoudre le système linéaire en lui-même afin d'obtenir les solutions de ce dernier.\n",
    "Cette résolution du problème linéaire et calcul des solutions potentielles ce fait à partir de la fonction suivante:\n"
   ]
  },
  {
   "cell_type": "markdown",
   "id": "ab7a5797",
   "metadata": {},
   "source": [
    "```C\n",
    "/// @brief Solves the linear system\n",
    "/// @param linear_system the given linear system\n",
    "/// @return the solutions to the linear system inside an array\n",
    "double *solve_linear_system(linear_system_t *linear_system)\n",
    "{\n",
    "    int j = 0;\n",
    "    double result = 0;\n",
    "\n",
    "    int nb_matrix_rows = linear_system->nb_unknowns;\n",
    "    int nb_matrix_cols = nb_matrix_rows + 1;\n",
    "\n",
    "    // allocate memory for the solutions array, initialized with zeros\n",
    "    double *solutions = (double *)calloc(linear_system->nb_unknowns, sizeof(double));\n",
    "    if (solutions == NULL)\n",
    "    {\n",
    "        fprintf(stderr, \"Out of memory!\\n\");\n",
    "        exit(EXIT_FAILURE);\n",
    "    }\n",
    "\n",
    "    for (int i = nb_matrix_rows - 1; i >= 0; i--)\n",
    "    { // commencer à la dernière ligne\n",
    "        result = 0;\n",
    "        for (j = i; j < nb_matrix_cols - 1; j++)\n",
    "        {\n",
    "            if (i != j)\n",
    "            { // if the the two aren't the same then an initial solution has been found\n",
    "                // result += A[i][j] * R[j]\n",
    "                result += linear_system->storage[i][j] * solutions[j];\n",
    "            }\n",
    "        }\n",
    "        // R[i]=(A[i][dim-1]-result)/A[i][i]\n",
    "        solutions[i] = (linear_system->storage[i][nb_matrix_cols - 1] - result) / linear_system->storage[i][i];\n",
    "    }\n",
    "    return solutions;\n",
    "}\n",
    "```"
   ]
  },
  {
   "cell_type": "markdown",
   "id": "8f8ff8fb",
   "metadata": {},
   "source": [
    "Dans cet algorithme, nous calculons les solutions possibles pour chaque ligne en commençant par la dernière ligne du système linéaire, maintenant triangularisé après application du pivot. Nous itérons alors dans la deuxième boucle (for) pour indice j la partie triangulaire de la matrice pour trouver les valeurs constantes utilisées afin de calculer les autres solutions dans les lignes supérieures. Chaque valeur solution trouvée à la ligne i est stockée individuellement dans un tableau unidimensionnel **solutions**, à l'indice i."
   ]
  },
  {
   "cell_type": "markdown",
   "id": "arranged-contamination",
   "metadata": {},
   "source": [
    "## 6. Ecriture du résultat finale dans un fichier en sortie"
   ]
  },
  {
   "cell_type": "markdown",
   "id": "wooden-cooperation",
   "metadata": {},
   "source": [
    "L'écriture du fichier ce fait de la même façons que la lecture, à partir des outils de la librairie standard du C, grâce aux fonctions de **stdio.h** permettant la lecture d'un fichier. Cette écriture est ici faite élément par élément dans un fichier structuré de la façon suivante:\n",
    "<br>\n",
    "Format du fichier de sortie:\n",
    "* n : nb d'inconnues\n",
    "* n lignes triangulées (la partie utile de la matrice résultat, on ne stocke pas le zero)\n",
    "* n valeurs (résultats des inconnus)\n",
    "\n",
    "Exemple: <br>\n",
    "2 <br>\n",
    "4.000 -6.000 -20.000 <br> \n",
    "4.000 15.000 <br>\n",
    "0.625 3.750 <br>"
   ]
  },
  {
   "cell_type": "code",
   "execution_count": null,
   "id": "looking-anger",
   "metadata": {},
   "outputs": [],
   "source": []
  },
  {
   "cell_type": "markdown",
   "id": "literary-location",
   "metadata": {},
   "source": [
    "# Execution du script de résolution de système linaire"
   ]
  },
  {
   "cell_type": "code",
   "execution_count": 2,
   "id": "surprising-moldova",
   "metadata": {},
   "outputs": [
    {
     "name": "stdout",
     "output_type": "stream",
     "text": [
      "Loading gcc/10.2.0_spack2021_gcc-10.2.0-gdnn\n",
      "  Loading requirement: gmp/6.1.2_spack2021_gcc-10.2.0-z76c\n",
      "    isl/0.21_spack2021_gcc-10.2.0-jjlz mpfr/4.0.2_spack2021_gcc-10.2.0-glhn\n",
      "    mpc/1.1.0_spack2021_gcc-10.2.0-bzdh zstd/1.4.5_spack2021_gcc-10.2.0-ak7l\n",
      "Delete objects, temporary files...\n",
      "Done.\n",
      "Create objects...\n",
      "Create executables...\n",
      "Done.\n",
      "Starting ./main...\n",
      "Matrice augmentée générée:\n",
      "2.000      1.000      0.000      4.000      2.000      1.000      0.000      4.000      2.000      1.000      1.000      \n",
      "-4.000     -2.000     3.000      -7.000     -4.000     -2.000     3.000      -7.000     -4.000     1.000      4.000      \n",
      "4.000      1.000      -2.000     8.000      0.000      -3.000     -12.000    -1.000     8.000      7.000      5.000      \n",
      "0.000      -3.000     -12.000    -1.000     1.000      0.000      4.000      2.000      1.000      0.000      7.000      \n",
      "2.000      1.000      -2.000     8.000      0.000      -3.000     0.000      -3.000     -12.000    -1.000     5.000      \n",
      "1.000      -2.000     8.000      0.000      -3.000     -12.000    -1.000     8.000      7.000      -9.000     3.000      \n",
      "2.000      4.000      1.000      -2.000     8.000      0.000      -3.000     -12.000    -1.000     8.000      13.000     \n",
      "0.000      -3.000     -12.000    -1.000     1.000      0.000      4.000      2.000      1.000      2.000      5.000      \n",
      "1.000      0.000      4.000      2.000      1.000      0.000      1.000      -2.000     8.000      0.000      5.000      \n",
      "-12.000    -1.000     1.000      0.000      4.000      2.000      1.000      0.000      1.000      -2.000     4.000      \n",
      "Start of the linear solver triangulation...\n",
      "\n",
      "[Ligne #0] Valeur de pivot trouvée: -12.000 à la ligne 9\n",
      "\n",
      "[Ligne #1] Valeur de pivot trouvée: 3.833 à la ligne 6\n",
      "\n",
      "[Ligne #2] Valeur de pivot trouvée: -11.087 à la ligne 3\n",
      "\n",
      "[Ligne #3] Valeur de pivot trouvée: 8.918 à la ligne 4\n",
      "\n",
      "[Ligne #4] Valeur de pivot trouvée: 7.229 à la ligne 5\n",
      "\n",
      "[Ligne #5] Valeur de pivot trouvée: 8.673 à la ligne 8\n",
      "\n",
      "[Ligne #6] Valeur de pivot trouvée: -12.358 à la ligne 8\n",
      "\n",
      "[Ligne #7] Valeur de pivot trouvée: -15.959 à la ligne 8\n",
      "\n",
      "[Ligne #8] Valeur de pivot trouvée: -0.089 à la ligne 9\n",
      "\n",
      "[Ligne #9] Valeur de pivot trouvée: 2.000 à la ligne 9\n",
      "x1 = 111.491\n",
      "x2 = -513.510\n",
      "x3 = 104.707\n",
      "x4 = -8.444\n",
      "x5 = 178.075\n",
      "x6 = 90.977\n",
      "x7 = -100.789\n",
      "x8 = 5.691\n",
      "x9 = -71.792\n",
      "x10 = -1.000\n",
      "-----------------------------------------------------\n",
      " Total solver runtime: 0.000006 seconds\n",
      "-----------------------------------------------------\n",
      "Starting ./main...\n",
      "Matrice augmentée générée:\n",
      "2.000      1.000      0.000      4.000      2.000      1.000      0.000      4.000      2.000      1.000      1.000      \n",
      "-4.000     -2.000     3.000      -7.000     -4.000     -2.000     3.000      -7.000     -4.000     1.000      4.000      \n",
      "4.000      1.000      -2.000     8.000      0.000      -3.000     -12.000    -1.000     8.000      7.000      5.000      \n",
      "0.000      -3.000     -12.000    -1.000     1.000      0.000      4.000      2.000      1.000      0.000      7.000      \n",
      "2.000      1.000      -2.000     8.000      0.000      -3.000     0.000      -3.000     -12.000    -1.000     5.000      \n",
      "1.000      -2.000     8.000      0.000      -3.000     -12.000    -1.000     8.000      7.000      -9.000     3.000      \n",
      "2.000      4.000      1.000      -2.000     8.000      0.000      -3.000     -12.000    -1.000     8.000      13.000     \n",
      "0.000      -3.000     -12.000    -1.000     1.000      0.000      4.000      2.000      1.000      2.000      5.000      \n",
      "1.000      0.000      4.000      2.000      1.000      0.000      1.000      -2.000     8.000      0.000      5.000      \n",
      "-12.000    -1.000     1.000      0.000      4.000      2.000      1.000      0.000      1.000      -2.000     4.000      \n",
      "Start of the linear solver triangulation...\n",
      "\n",
      "[Ligne #0] Valeur de pivot trouvée: -12.000 à la ligne 9\n",
      "\n",
      "[Ligne #1] Valeur de pivot trouvée: 3.833 à la ligne 6\n",
      "\n",
      "[Ligne #2] Valeur de pivot trouvée: -11.087 à la ligne 3\n",
      "\n",
      "[Ligne #3] Valeur de pivot trouvée: 8.918 à la ligne 4\n",
      "\n",
      "[Ligne #4] Valeur de pivot trouvée: 7.229 à la ligne 5\n",
      "\n",
      "[Ligne #5] Valeur de pivot trouvée: 8.673 à la ligne 8\n",
      "\n",
      "[Ligne #6] Valeur de pivot trouvée: -12.358 à la ligne 8\n",
      "\n",
      "[Ligne #7] Valeur de pivot trouvée: -15.959 à la ligne 8\n",
      "\n",
      "[Ligne #8] Valeur de pivot trouvée: -0.089 à la ligne 9\n",
      "\n",
      "[Ligne #9] Valeur de pivot trouvée: 2.000 à la ligne 9\n",
      "x1 = 111.491\n",
      "x2 = -513.510\n",
      "x3 = 104.707\n",
      "x4 = -8.444\n",
      "x5 = 178.075\n",
      "x6 = 90.977\n",
      "x7 = -100.789\n",
      "x8 = 5.691\n",
      "x9 = -71.792\n",
      "x10 = -1.000\n",
      "-----------------------------------------------------\n",
      " Total solver runtime: 0.008864 seconds\n",
      "-----------------------------------------------------\n"
     ]
    },
    {
     "name": "stderr",
     "output_type": "stream",
     "text": [
      "==2994== Memcheck, a memory error detector\n",
      "==2994== Copyright (C) 2002-2017, and GNU GPL'd, by Julian Seward et al.\n",
      "==2994== Using Valgrind-3.13.0 and LibVEX; rerun with -h for copyright info\n",
      "==2994== Command: ./main 10x10_linear_system.txt\n",
      "==2994== \n",
      "==2994== \n",
      "==2994== HEAP SUMMARY:\n",
      "==2994==     in use at exit: 0 bytes in 0 blocks\n",
      "==2994==   total heap usage: 5 allocs, 5 frees, 2,176 bytes allocated\n",
      "==2994== \n",
      "==2994== All heap blocks were freed -- no leaks are possible\n",
      "==2994== \n",
      "==2994== For counts of detected and suppressed errors, rerun with: -v\n",
      "==2994== ERROR SUMMARY: 0 errors from 0 contexts (suppressed: 0 from 0)\n"
     ]
    }
   ],
   "source": [
    "%%bash\n",
    "module load gcc/10.2.0_spack2021_gcc-10.2.0-gdnn\n",
    "module load 2018/valgrind/3.13.0\n",
    "make clean && make\n",
    "./main \"10x10_linear_system.txt\"\n",
    "valgrind ./main \"10x10_linear_system.txt\""
   ]
  }
 ],
 "metadata": {
  "kernelspec": {
   "display_name": "Python 3",
   "language": "python",
   "name": "python3"
  },
  "language_info": {
   "codemirror_mode": {
    "name": "ipython",
    "version": 3
   },
   "file_extension": ".py",
   "mimetype": "text/x-python",
   "name": "python",
   "nbconvert_exporter": "python",
   "pygments_lexer": "ipython3",
   "version": "3.8.6"
  }
 },
 "nbformat": 4,
 "nbformat_minor": 5
}

{
 "cells": [
  {
   "cell_type": "markdown",
   "id": "accepted-watershed",
   "metadata": {},
   "source": [
    "# Résolution de système linéaire par la méthode du pivot de Gauss"
   ]
  },
  {
   "cell_type": "markdown",
   "id": "selective-confidence",
   "metadata": {},
   "source": [
    "## Les étapes du solveur:\n",
    "* Lecture du fichier en entrée\n",
    "* Création de la matrice augmentée stockant le système linéaire\n",
    "* Sélection du pivot (maximum de la diagonale)\n",
    "* Propagation du pivot sur les lignes concernées\n",
    "* Résolution du problème linéaire\n",
    "* Ecriture du résultat finale dans un fichier en sortie\n",
    "### Fonctionnalités:\n",
    "* Génération de grandes matrices de tests\n",
    "* Recherche du pivot maximum en parallèle (OpenMP)\n",
    "* Propagation du pivot trouvé en parallèle (OpenMP)"
   ]
  },
  {
   "cell_type": "markdown",
   "id": "pediatric-trust",
   "metadata": {},
   "source": [
    "## 1. Lecture du fichier en entrée"
   ]
  },
  {
   "cell_type": "markdown",
   "id": "moving-montana",
   "metadata": {},
   "source": [
    "La lecture du fichier ce fait à partir des outils de la librairie standard du C, grâce aux fonctions de **stdio.h** permettant la lecture d'un fichier. Cette lecture est ici faite élément par élément dans un fichier structuré de la façon suivante:\n",
    "<br>\n",
    "format du fichier d'entrée:\n",
    "* n : nombre d'inconnues\n",
    "* n lignes d'équations (n + 1 élements par lignes, séparation par un espace)\n",
    "\n",
    "exemple: <br>\n",
    "2<br>\n",
    "2 1 5<br>\n",
    "4 -6 -20<br>"
   ]
  },
  {
   "cell_type": "markdown",
   "id": "african-trailer",
   "metadata": {},
   "source": [
    "## 2. Création de la matrice augmentée stockant le système linaire"
   ]
  },
  {
   "cell_type": "markdown",
   "id": "severe-windows",
   "metadata": {},
   "source": [
    "Nous stockons le système linaire, lu à partir du fichier d'entrée, au sein de la structure suivante:\n",
    "<br>\n",
    "```C\n",
    "/// @brief linear system wrapper structure which contains the system matrix as a 1D array (data) \n",
    "///        and a pointer array (storage) to facilitate access to elements inside the linear system matrix\n",
    "typedef struct linear_system_t {\n",
    "    int nb_unknowns;\n",
    "    double * data;\n",
    "    double ** storage;\n",
    "} linear_system_t;\n",
    "```"
   ]
  },
  {
   "cell_type": "markdown",
   "id": "pharmaceutical-stock",
   "metadata": {},
   "source": [
    "Cette façon de stocker notre système linéaire nous permet dans un permier temps d'acceder aux dimenssions de la matrice augmentée, à partir du premier membre de la structure **nb_unknowns**. De plus, nous pouvons stocker dans cette même structure à l'intérieur d'un tableau unidimensionnel **data** dans lequel tous les coefficients seront stockées séquentiellement. L'ordonancement de nos indices sous forme matricielle au sein du tableau 1D **data** ce fait à partir du tableau de pointeur **storage** qui nous permet d'acceder au élément de **data** comme un tableau bidimensionnel. Les avantages de ce stockage nous permet d'éviter de faire trop d'appel d'allocation dynamique de mémoire par **malloc**, et par conséquent de faire une économisation mémoire."
   ]
  },
  {
   "cell_type": "markdown",
   "id": "amber-investment",
   "metadata": {},
   "source": [
    "## 3. Sélection du pivot (maximum de la diagonale)"
   ]
  },
  {
   "cell_type": "markdown",
   "id": "accompanied-wedding",
   "metadata": {},
   "source": [
    "La stratégie de sélection du pivot est une étape cruciale dans la résolution par méthode de Gauss. Nous utilisons une méthode de pivot partiel, dans laquel nous sélectionnons la valeur la plus grande sur la diagonale. L'algorithme de propagation, vu plus tard, itère sur les lignes de notre système linéaire de la première à la dernière ligne. Il nous faut alors selectionner un nouveau pivot pour chaque ligne parcourue.<br>\n",
    "Cette sélection de pivot sur la chaque ligne est décrite dans l'algorithme suivant:"
   ]
  },
  {
   "cell_type": "markdown",
   "id": "hazardous-entertainment",
   "metadata": {},
   "source": [
    "```C\n",
    "/// @brief Finds the pivot used in the currently provided linear system using a partial pivot strategy\n",
    "/// @param linear_system the linear system\n",
    "/// @param current_line\n",
    "/// @param pivot_line\n",
    "/// @return the pivot\n",
    "double select_current_pivot(linear_system_t *linear_system, int current_line, int *pivot_line)\n",
    "{\n",
    "    int y;\n",
    "\n",
    "    int nb_matrix_rows = linear_system->nb_unknowns;\n",
    "\n",
    "    double pivot = 0;\n",
    "    double p = linear_system->storage[current_line][current_line]; // pivot in diagonal\n",
    "    double abs_val;\n",
    "    double col_val;\n",
    "    double p_abs;\n",
    "    for (y = current_line + 1; y < nb_matrix_rows; y++)            // check for max value in same column\n",
    "    {\n",
    "        col_val = linear_system->storage[y][current_line];\n",
    "        abs_val = fabs(col_val); //check if the absolute value of the pivot coefficient to be selected\n",
    "        p_abs = fabs(p);\n",
    "        pivot = MAX(p_abs, abs_val);\n",
    "        if(p_abs != pivot) *pivot_line = y; //if the current pivot is updated, we update the line the pivot is on\n",
    "        p = (pivot == abs_val) ? col_val : p;\n",
    "    }\n",
    "\n",
    "    return p;\n",
    "}\n",
    "```"
   ]
  },
  {
   "cell_type": "markdown",
   "id": "expressed-facial",
   "metadata": {},
   "source": [
    "Décrivons plus en détail cette fonction C. Nous sélectionnons d'abord comme valeur pivot le coefficient positionner sur la diagonnale de la ligne traité. Il nous suffit ensuite de regarder les coefficients se trouvant sur la même colonne du pivot actuel, sous celui-ci. Nous effectuons une comparaison (fonction **MAX**) par valeur absolue du pivot actuelle avec les valeurs sous celui-ci, ceci afin de sélectionner à la fin la valeur comme pivot la plus grande possible afin d'assurer une certaine stabilité numérique. Dans le cas où le pivot actuelle à été mise à jour, nous enregistrons alors la ligne sur laquelle ce nouveau coefficient se positionne."
   ]
  },
  {
   "cell_type": "markdown",
   "id": "fifty-stationery",
   "metadata": {},
   "source": [
    "## 4. Propagation du pivot sur les lignes concernées"
   ]
  },
  {
   "cell_type": "markdown",
   "id": "prerequisite-rhythm",
   "metadata": {},
   "source": [
    "Comme mentionnée précédemment, l'algorithme de propagation du pivot boucle sur chacune des lignes du système linéaire itérativement. Ce processus se retrouve dans le bloc de suivant, définissant cette algorithme de propagation écrit en C:"
   ]
  },
  {
   "cell_type": "markdown",
   "id": "closed-minneapolis",
   "metadata": {},
   "source": [
    "```C\n",
    "void linear_system_propagation(linear_system_t *linear_system)\n",
    "{\n",
    "    int curr_line;\n",
    "    int nb_matrix_rows = linear_system->nb_unknowns;\n",
    "    double pivot;\n",
    "    int pivot_line;\n",
    "\n",
    "    //loop iterativly over each row of the linear system matrix\n",
    "    for (curr_line = 0; curr_line < nb_matrix_rows; curr_line++)\n",
    "    {\n",
    "        pivot_line = curr_line;\n",
    "        \n",
    "        // selection du pivot pour chaque ligne de la matrice augmentée du systeme lineaire\n",
    "        pivot = select_current_pivot(linear_system, curr_line, &pivot_line);\n",
    "\n",
    "        // changement de ligne pour que le pivot soit sur la diagonale\n",
    "        if (pivot_line != curr_line)\n",
    "        {\n",
    "            swap_linear_system_rows(linear_system, curr_line, pivot_line);\n",
    "        }\n",
    "\n",
    "        // pivotage de la matrice\n",
    "        apply_pivot(linear_system, curr_line);\n",
    "    }\n",
    "}\n",
    "```"
   ]
  },
  {
   "cell_type": "markdown",
   "id": "absent-olive",
   "metadata": {},
   "source": [
    "Dans cette fonction, nous itérons sur chacune des lignes de notre matrice dans laquelle on nous sélectionnons le pivot, et si on constate que l'on a un coefficient trouvée plus grand dans la colonne du pivot sélectionnée, nous pouvons alors échanger la ligne actuelle avec la ligne qui a un plus grand coefficient. Dès lors, nous pouvons alors effectuer le pivotage de la matrice."
   ]
  },
  {
   "cell_type": "markdown",
   "id": "controlling-stranger",
   "metadata": {},
   "source": [
    "## 5. Résolution du problème linéaire"
   ]
  },
  {
   "cell_type": "markdown",
   "id": "bb607e02",
   "metadata": {},
   "source": [
    "Avant d'obtenir les solutions potentieles du problème linéaire, nous devons d'abord appliquer le pivot trouver durant les étapes précédentes et le propager sur les lignes sous la ligne du pivot. Cette application du pivot s'effectue à partir de la fonction suivante:\n",
    "<br>\n",
    "```C\n",
    "/// @brief Application de la technique de pivot\n",
    "/// @param linear_system le système linéaire\n",
    "/// @param pivot_line la ligne du pivot choisi dans le système linéaire\n",
    "void apply_pivot(linear_system_t *linear_system, int pivot_line)\n",
    "{\n",
    "    int i, j;\n",
    "\n",
    "    int nb_matrix_rows = linear_system->nb_unknowns;\n",
    "\n",
    "    double pivot = linear_system->storage[pivot_line][pivot_line];\n",
    "    //propagation du pivot sur les lignes en dessous\n",
    "    for (i = pivot_line + 1; i < nb_matrix_rows; i++) \n",
    "    {\n",
    "        //propagation du pivot sur les coefficient de chaque lignes\n",
    "        for (j = pivot_line + 1; j <= nb_matrix_rows; j++) \n",
    "        {\n",
    "            // A[i][j] = A[i][j] - ( (A[i][pi] / A[pi][pi]) * A[pi][j] )\n",
    "            linear_system->storage[i][j] = linear_system->storage[i][j] - ((linear_system->storage[i][pivot_line] / pivot) * linear_system->storage[pivot_line][j]);\n",
    "        }\n",
    "        linear_system->storage[i][pivot_line] = 0;\n",
    "    }\n",
    "}\n",
    "```"
   ]
  },
  {
   "cell_type": "markdown",
   "id": "based-glossary",
   "metadata": {},
   "source": [
    "À l'intérieur de l'algorithme, nous avons une double boucle (for) imbriquée parcourant chaque coefficient de la matrice en commençant à la ligne et colonne +1 de la ligne de pivot (le pivot se trouvant sur la diagonale). En outre, ces itérations visent à mettre à jour les coefficients des variables dans chaque ligne sous le pivot. \n",
    "<br>\n",
    "Après avoir mis à jour tous les coefficients dans une ligne, la colonne où se trouve le pivot est remise à zéro dans cette ligne (sauf pour la ligne du pivot) pour éviter les calculs inutiles lors des itérations ultérieures.\n"
   ]
  },
  {
   "cell_type": "markdown",
   "id": "8ac356da",
   "metadata": {},
   "source": [
    "---\n",
    "Dorénavant, nous avons une fonction qui nous permet d'effectuer la triangulation de la matrice donnée en entrée avec un algorithme basique de compléxité O(n^3). La dernière étape étant de résoudre le système linéaire en lui-même afin d'obtenir les solutions de ce dernier.\n",
    "Cette résolution du problème linéaire et calcul des solutions potentielles ce fait à partir de la fonction suivante:\n"
   ]
  },
  {
   "cell_type": "markdown",
   "id": "ab7a5797",
   "metadata": {},
   "source": [
    "```C\n",
    "/// @brief Solves the linear system\n",
    "/// @param linear_system the given linear system\n",
    "/// @return the solutions to the linear system inside an array\n",
    "double *solve_linear_system(linear_system_t *linear_system)\n",
    "{\n",
    "    int j = 0;\n",
    "    double result = 0;\n",
    "\n",
    "    int nb_matrix_rows = linear_system->nb_unknowns;\n",
    "    int nb_matrix_cols = nb_matrix_rows + 1;\n",
    "\n",
    "    // allocate memory for the solutions array, initialized with zeros\n",
    "    double *solutions = (double *)calloc(linear_system->nb_unknowns, sizeof(double));\n",
    "    if (solutions == NULL)\n",
    "    {\n",
    "        fprintf(stderr, \"Out of memory!\\n\");\n",
    "        exit(EXIT_FAILURE);\n",
    "    }\n",
    "\n",
    "    for (int i = nb_matrix_rows - 1; i >= 0; i--)\n",
    "    { // commencer à la dernière ligne\n",
    "        result = 0;\n",
    "        for (j = i; j < nb_matrix_cols - 1; j++)\n",
    "        {\n",
    "            if (i != j)\n",
    "            { // if the the two aren't the same then an initial solution has been found\n",
    "                // result += A[i][j] * R[j]\n",
    "                result += linear_system->storage[i][j] * solutions[j];\n",
    "            }\n",
    "        }\n",
    "        // R[i]=(A[i][dim-1]-result)/A[i][i]\n",
    "        solutions[i] = (linear_system->storage[i][nb_matrix_cols - 1] - result) / linear_system->storage[i][i];\n",
    "    }\n",
    "    return solutions;\n",
    "}\n",
    "```"
   ]
  },
  {
   "cell_type": "markdown",
   "id": "8f8ff8fb",
   "metadata": {},
   "source": [
    "Dans cet algorithme, nous calculons les solutions possibles pour chaque ligne en commençant par la dernière ligne du système linéaire, maintenant triangularisé après application du pivot. Nous itérons alors dans la deuxième boucle (for) pour indice j la partie triangulaire de la matrice pour trouver les valeurs constantes utilisées afin de calculer les autres solutions dans les lignes supérieures. Chaque valeur solution trouvée à la ligne i est stockée individuellement dans un tableau unidimensionnel **solutions**, à l'indice i."
   ]
  },
  {
   "cell_type": "markdown",
   "id": "arranged-contamination",
   "metadata": {},
   "source": [
    "## 6. Ecriture du résultat finale dans un fichier en sortie"
   ]
  },
  {
   "cell_type": "markdown",
   "id": "wooden-cooperation",
   "metadata": {},
   "source": [
    "L'écriture du fichier ce fait de la même façons que la lecture, à partir des outils de la librairie standard du C, grâce aux fonctions de **stdio.h** permettant la lecture d'un fichier. Cette écriture est ici faite élément par élément dans un fichier structuré de la façon suivante:\n",
    "<br>\n",
    "Format du fichier de sortie:\n",
    "* n : nb d'inconnues\n",
    "* n lignes triangulées (la partie utile de la matrice résultat, on ne stocke pas le zero)\n",
    "* n valeurs (résultats des inconnus)\n",
    "\n",
    "Exemple: <br>\n",
    "2 <br>\n",
    "4.000 -6.000 -20.000 <br> \n",
    "4.000 15.000 <br>\n",
    "0.625 3.750 <br>"
   ]
  },
  {
   "cell_type": "markdown",
   "metadata": {},
   "source": [
    "# 7. Parallélisation de fonctionnalités en OpenMP"
   ]
  },
  {
   "cell_type": "markdown",
   "id": "looking-anger",
   "metadata": {},
   "source": [
    "## 7.1 Recherche du pivot en parallèle avec OpenMP## 7.1 Recherche du pivot maximum en parallèle (OpenMP)"
   ]
  },
  {
   "cell_type": "markdown",
   "metadata": {},
   "source": [
    "Pour la recherche du pivot en OpenMP on utilise la bibliothèque **omp.h**. Pour ce faire, il nous a paru judicieux de créer un certain nombre de threads qui vont être réparti sur la colonne et qui vont alors chacun trouver le maximum de leur zone de travail respectif et ainsi, on pourra récupérer la plus grande valeur parmi les maximums locaux trouvée par les threads.\n",
    "On crée alors une région parallèle à l'aide de la commande :\n",
    "\n",
    "```c\n",
    "#pragma omp parallel shared(global_max_pivot, global_pivot_line)\n",
    "```\n",
    "À la fin du traitement, les threads pourront alors écrire sur les variables partagées **global_max_pivot** et  **global_pivot_line**, respectivement le plus grand pivot trouvé et la ligne sur laquelle il a été trouvée afin de réaliser la permutation de lignes plus tard. \n",
    "<br>\n",
    "On commence alors par déterminer le nombre de lignes que chaque thread devra traiter. On le calcule de la manière suivante :\n",
    "\n",
    "```c\n",
    "int step = (nb_matrix_rows + num_threads - 1)/num_threads;\n",
    "```\n",
    "Le nombre de lignes que chaque thread traitera sera égale aux nombres de lignes plus le nombre de threads moins 1, le tout divisé par le nombre de threads afin d'avoir une répartition équitable du nombre de lignes à traiter pour chaque thread.\n",
    "<br>\n",
    "À partir de l'identifiant de thread, on va déterminer les lignes sur lesquelles chaque thread effectuera sa tâche. Chaque thread commencera alors à partir de l'indice :\n",
    "\n",
    "```c\n",
    "start = (thread_id * step) + (current_line + 1);\n",
    "```\n",
    "Cela correspond au numéro du thread que l'on multiplie par le nombre de lignes a traité plus la ligne sur lequel on itère plus un pour ne pas récupérer la valeur du pivot actuelle dans le traitement.\n",
    "<br>\n",
    "On définit la limite de la zone de traitement du thread de la manière suivante :\n",
    "\n",
    "```c\n",
    "stop = start + step;\n",
    "if(stop > nb_matrix_rows) stop = nb_matrix_rows;\n",
    "```\n",
    "La valeur sera alors égale au point de départ de la zone de traitement plus le nombre de lignes à traiter. Si cette valeur dépasse le nombre actuel de ligne de la matrice, la zone d'arrêt sera définie par le nombre de lignes de la matrice pour éviter un débordement.\n",
    "<br>\n",
    "On effectue alors le traitement et on définit une région critique afin de mettre à jour le pivot et la ligne de celui-ci afin d'éviter que tous les threads écrivent en même temps sur la variable.\n",
    "\n",
    "```c\n",
    "#pragma omp critical\n",
    "{\n",
    "    double abs_max_pivot = fabs(local_max_pivot);\n",
    "    if(abs_max_pivot > fabs(global_max_pivot)) {\n",
    "        global_max_pivot = local_max_pivot;\n",
    "        global_pivot_line = local_pivot_line;\n",
    "    }\n",
    "}\n",
    "```\n",
    "\n",
    "On peut alors retourner le pivot et la ligne sur lequel le pivot maximum a été trouvé.\n",
    "<br>\n",
    "### Observations:\n",
    "On constate alors après un certain nombre de tests sur des matrices de tailles variables allant de 1024 à 8086, que plus le nombre de threads que l'on va utiliser est grand, plus le temps de recherche de ce pivot va augmenter, dû au fait de la répartition du nombre de lignes pour les threads qui va se retrouver de plus en plus inégalitaire au fur et à mesure de l'avancement de l'algorithme. Le nombre de lignes à traiter va diminuer avec l'avancement de la recherche du pivot sur les dernières lignes.\n",
    "<br><br>\n",
    "Dès lors, le rapport entre le nombre de threads utilisés et la taille de la matrice ne justifie plus le coût indirect de l'utilisation de OpenMP. Nous entrons alors dans un paradigme de parallélisme dit \"Coarse-grained\" (https://en.wikipedia.org/wiki/Granularity_(parallel_computing)). Une parallélisation de type \"Fine-grained\" (i.e. GPUs) serait alors potentiellement plus apte afin de faire ressortir le plus de parallélisme."
   ]
  },
  {
   "cell_type": "code",
   "execution_count": null,
   "id": "9793cc83",
   "metadata": {
    "vscode": {
     "languageId": "c"
    }
   },
   "outputs": [],
   "source": [
    "/// @brief Finds the pivot used in the currently provided linear system using a partial pivot strategy\n",
    "/// @param linear_system the linear system\n",
    "/// @param current_line\n",
    "/// @param pivot_line\n",
    "/// @return the pivot\n",
    "double omp_select_current_pivot(linear_system_t *linear_system, int current_line, int *pivot_line)\n",
    "{\n",
    "    int nb_matrix_rows = linear_system->nb_unknowns;\n",
    "\n",
    "    int global_pivot_line = *pivot_line;\n",
    "    double global_max_pivot = linear_system->storage[current_line][current_line];\n",
    "    #pragma omp parallel shared(global_max_pivot, global_pivot_line)\n",
    "    {\n",
    "        int start, stop;\n",
    "        int thread_id = omp_get_thread_num();\n",
    "        double local_max_pivot = global_max_pivot;\n",
    "        int local_pivot_line = global_pivot_line;\n",
    "\n",
    "        int num_threads = omp_get_num_threads();\n",
    "        int step = (nb_matrix_rows + num_threads - 1)/num_threads;\n",
    "\n",
    "        start = (thread_id * step) + (current_line + 1);\n",
    "        stop = start + step;\n",
    "        if(stop > nb_matrix_rows) stop = nb_matrix_rows;\n",
    "\n",
    "        double abs_val;\n",
    "        double col_val;\n",
    "        double p_abs;\n",
    "        //#pragma omp for schedule(static, step) this creates further problems if the step can't be divided evenly\n",
    "        for (int y = start; y < stop; y++)\n",
    "        {\n",
    "            col_val = linear_system->storage[y][current_line];\n",
    "            abs_val = fabs(col_val); // check if the absolute value of the pivot coefficient to be selected\n",
    "            p_abs = fabs(local_max_pivot);\n",
    "            if(abs_val > p_abs) {\n",
    "                local_pivot_line = y;\n",
    "                local_max_pivot = col_val;\n",
    "            }\n",
    "        }\n",
    "\n",
    "        #pragma omp critical\n",
    "        {\n",
    "            double abs_max_pivot = fabs(local_max_pivot);\n",
    "            if(abs_max_pivot > fabs(global_max_pivot)) {\n",
    "                global_max_pivot = local_max_pivot;\n",
    "                global_pivot_line = local_pivot_line;\n",
    "            }\n",
    "        }\n",
    "    }\n",
    "    *pivot_line = global_pivot_line;\n",
    "    return global_max_pivot;\n",
    "}"
   ]
  },
  {
   "cell_type": "markdown",
   "metadata": {},
   "source": [
    "## 7.2 Propagation du pivot trouvé en parallèle (OpenMP)"
   ]
  },
  {
   "cell_type": "markdown",
   "metadata": {},
   "source": [
    "De même que pour la recherche du pivot maximum, nous avons réécrit une nouvelle version de la propagation du pivot sur les autres lignes en une version OpenMP dans le fichier **omp_utils.c**, dûment nommée **omp_apply_pivot**.\n",
    "La parallélisation de cette fonction s'effectue très facilement du fait qu'il n'y a pas de dépendances apparentes entre les différentes lignes sur lesquelles le pivot est appliqué.\n",
    "<br><br>\n",
    "Du fait que dans notre implémentation de la propagation du pivot, les boucles ne sont pas parfaitement imbriquées, nous devons alors faire une parallélisation séparée de chaque boucle (on ne peut donc pas utiliser la directive OpenMP **collapse**).\n",
    "Nous partageons alors l'itération de la boucle (for) externe, sur chacune des lignes de la matrice augmentée, entre nos threads OpenMP (par la directive suivante :\n",
    "```C \n",
    "#pragma omp for schedule(dynamic, nb_matrix_rows) \n",
    "```\n",
    ")\n",
    "<br>\n",
    "De plus, afin d'améliorer les performances de l'application du pivot sur les coefficients de chaque ligne, nous vectorisons explicitement les calculs de coefficients dans la boucle (for) interne pour j. Cette opération ce fait dans la partie suivante de la fonction :\n",
    "```C\n",
    "// propagation du pivot sur les coefficient de chaque lignes\n",
    "#pragma omp simd\n",
    "for (j = pivot_line + 1; j <= nb_matrix_rows; j++)\n",
    "{\n",
    "    linear_system->storage[i][j] -= ((linear_system->storage[i][pivot_line] / pivot) * linear_system->storage[pivot_line][j]);\n",
    "}\n",
    "```\n",
    "<br>\n",
    "Le reste de la fonction s'éxecute de la même manière que la version séquentielle."
   ]
  },
  {
   "cell_type": "code",
   "execution_count": null,
   "id": "ad32a7f9",
   "metadata": {
    "vscode": {
     "languageId": "c"
    }
   },
   "outputs": [],
   "source": [
    "/// @brief Application de la technique de pivot en OpenMP\n",
    "/// @param linear_system le système linéaire\n",
    "/// @param pivot_line la ligne du pivot choisi dans le système linéaire\n",
    "void omp_apply_pivot(linear_system_t *linear_system, int pivot_line)\n",
    "{\n",
    "    int i, j;\n",
    "\n",
    "    int nb_matrix_rows = linear_system->nb_unknowns;\n",
    "\n",
    "    double pivot = linear_system->storage[pivot_line][pivot_line];\n",
    "\n",
    "    #pragma omp parallel private(i)\n",
    "    {\n",
    "        // propagation du pivot sur les lignes en dessous\n",
    "        #pragma omp for schedule(dynamic, nb_matrix_rows)\n",
    "        for (i = pivot_line + 1; i < nb_matrix_rows; i++)\n",
    "        {\n",
    "            // propagation du pivot sur les coefficient de chaque lignes\n",
    "            #pragma omp simd\n",
    "            for (j = pivot_line + 1; j <= nb_matrix_rows; j++)\n",
    "            {\n",
    "                linear_system->storage[i][j] -= ((linear_system->storage[i][pivot_line] / pivot) * linear_system->storage[pivot_line][j]);\n",
    "            }\n",
    "            linear_system->storage[i][pivot_line] = 0;\n",
    "        }\n",
    "    }\n",
    "}"
   ]
  },
  {
   "cell_type": "markdown",
   "metadata": {},
   "source": [
    "## Benchmark ##\n",
    "Nous avons effectuer par la suite un benchmark à partir du script **bench_avg_runtime**, sur ROMEO, afin d'examiner le temps d'exécution en moyenne (sur 10) de la version séquentielle et la version parallèle (OpenMP) avec un nombre de threads évoluant. Ceci a été effectuer sur un fichier de système linéaire contenant 2048 inconnus.\n",
    "<br>\n",
    "Les données collécter sous formes de graphes sont les suivantes: \n",
    "<br><br>\n",
    "![benchmark graph with both sequential and paralle output](./img/benchmark_matrix2048_16_threads.png)\n",
    "<br>\n",
    "Nous observons que la version séquentielle s'éxécute entre 13 et 13.2 secondes. On constate alors que la version OpenMP nous avons un gain de temps lorsque l'on utilise un nombre de threads inférieur à 3 .\n",
    "<br>\n",
    "On peut alors supposer que lorsque l'on traitera des matrice plus grande; on aura un rapport de l'utilisation de threads plus avantageux que dans cette exemple, avec de meilleurs temps."
   ]
  },
  {
   "cell_type": "markdown",
   "id": "literary-location",
   "metadata": {},
   "source": [
    "# Execution du script de résolution de système linaire"
   ]
  },
  {
   "cell_type": "markdown",
   "id": "17b79ae2",
   "metadata": {},
   "source": [
    "![benchmark graph with seq](./img/new_ev_seq.png)"
   ]
  },
  {
   "cell_type": "markdown",
   "id": "a8f0f678",
   "metadata": {},
   "source": [
    "# Parallélisation sur GPU avec CUDA\n",
    "\n",
    "* Séléction du pivot de la colonne actuelle par réduction CUDA\n",
    "* Propagation du pivot en parallèle\n",
    "\n",
    "## Séléction du pivot de la colonne actuelle par réduction CUDA\n",
    "\n",
    "Comme le nom l'indique, la séléction du pivot partiel est en soit une opération séquentielle du fait que les valeurs du système linéaire change pour chaque propagation, pour chaque ligne sur lesquels nous itérons.\n",
    "\n",
    "De ce fait la séléction du pivot ne peut ce faire que sur la colonne actuelle. Dès lors, l'utilisation de CUDA ici serait dans le cadre d'une réduction entre nos threads afin de répartir la tâche de recherche du pivot maximum dans notre colonne. Les threads sont répartis sous la diagonale et recherche chacun un maximum local. Dès que chaque thread à effectuer sa recherche de maximum local, il regarde les valeurs de chacun des autres threads dans la mémoire partagée et cherche alors le maximum global.\n",
    "\n"
   ]
  },
  {
   "cell_type": "code",
   "execution_count": null,
   "id": "0d208fca",
   "metadata": {
    "vscode": {
     "languageId": "c"
    }
   },
   "outputs": [],
   "source": [
    "__global__ void find_pivot_and_swap(double *d_linear_system, int n_rows, int n_cols, int current_line, int *d_pivot_line)\n",
    "{\n",
    "    extern __shared__ double shared_data[];\n",
    "\n",
    "    int tid = threadIdx.x;\n",
    "    int col = current_line;\n",
    "    double *local_max = shared_data;\n",
    "    int *local_pivot = (int *)&local_max[blockDim.x];\n",
    "\n",
    "    // Step 1: Identify the pivot row\n",
    "    double pivot = 0;\n",
    "    double p = d_linear_system[current_line * n_cols + col];\n",
    "    double abs_val;\n",
    "    double col_val;\n",
    "    double p_abs;\n",
    "    int pivot_row = current_line;\n",
    "    for (int row = tid + current_line + 1; row < n_rows; row += blockDim.x)\n",
    "    {\n",
    "        col_val = d_linear_system[row * n_cols + col];\n",
    "        abs_val = fabs(col_val); // check if the absolute value of the pivot coefficient to be selected\n",
    "        p_abs = fabs(p);\n",
    "        pivot = MAX(p_abs, abs_val);\n",
    "        if (p_abs != pivot)\n",
    "            pivot_row = row;\n",
    "        p = (pivot == abs_val) ? col_val : p;\n",
    "    }\n",
    "\n",
    "    __syncthreads();\n",
    "\n",
    "    local_max[tid] = p;\n",
    "    local_pivot[tid] = pivot_row;\n",
    "\n",
    "    __syncthreads();\n",
    "\n",
    "    // Reduce to find the maximum value and corresponding row index\n",
    "    for (int stride = blockDim.x / 2; stride > 0; stride >>= 1)\n",
    "    {\n",
    "        if (tid < stride)\n",
    "        {\n",
    "            if (fabs(local_max[tid]) < fabs(local_max[tid + stride]))\n",
    "            {\n",
    "                local_max[tid] = local_max[tid + stride];\n",
    "                local_pivot[tid] = local_pivot[tid + stride];\n",
    "            }\n",
    "        }\n",
    "        __syncthreads();\n",
    "    }\n",
    "\n",
    "    __syncthreads();\n",
    "\n",
    "    if (tid == 0)\n",
    "    {\n",
    "        *d_pivot_line = local_pivot[0];\n",
    "    }\n",
    "}"
   ]
  },
  {
   "cell_type": "markdown",
   "id": "733c7389",
   "metadata": {},
   "source": [
    "## Propagation du pivot en parallèle\n",
    "\n",
    "Dans le propagation du pivot, il s'agit aussi d'une opération séquentielle où chaque opération sur une ligne est indépendant des autres lignes, il est alors pertinent de paralléliser ce procédé. Chaque thread est associée à un élément de la matrice. On stocke alors dans la mémoire partagée la ligne du pivot, et si le thread correspond à un élément de la ligne de pivot, l'élément est alors chargée dans la mémoire partagée. De plus, si un thread correspond à un élément dans une ligne sous la ligne du pivot, l'élimination de Gauss est effectuée pour cet élément. Cela implique de soustraire un multiple de la ligne du pivot de la ligne actuelle pour obtenir un zéro dans la position du pivot.\n",
    "\n"
   ]
  },
  {
   "cell_type": "code",
   "execution_count": null,
   "id": "a46d69f6",
   "metadata": {
    "vscode": {
     "languageId": "c"
    }
   },
   "outputs": [],
   "source": [
    "// paralell selection of the max absolute value gaussian pivot\n",
    "template <int BLOCK_SIZE>\n",
    "__global__ void gauss_elimination(double *d_linear_system, int n_rows, int n_cols, int pivot_line)\n",
    "{\n",
    "    // Thread ID\n",
    "    int row = blockIdx.x * blockDim.x + threadIdx.x;\n",
    "    int col = blockIdx.y * blockDim.y + threadIdx.y;\n",
    "\n",
    "    // Allocate shared memory for the pivot row\n",
    "    extern __shared__ double pivot_row[];\n",
    "\n",
    "    if (col < n_cols)\n",
    "    {\n",
    "\n",
    "        // Load the pivot row into shared memory\n",
    "        if (row == pivot_line)\n",
    "        {\n",
    "            pivot_row[col] = d_linear_system[pivot_line * n_cols + col];\n",
    "        }\n",
    "        __syncthreads();\n",
    "\n",
    "        // Perform Gaussian elimination for elements in rows below the pivot line\n",
    "        if (row > pivot_line && row < n_rows)\n",
    "        {\n",
    "            double pivot_value = pivot_row[pivot_line];\n",
    "\n",
    "            double factor = d_linear_system[row * n_cols + pivot_line] / pivot_value;\n",
    "\n",
    "            if (col >= pivot_line)\n",
    "            {\n",
    "                d_linear_system[row * n_cols + col] -= factor * pivot_row[col];\n",
    "            }\n",
    "        }\n",
    "        __syncthreads();\n",
    "    }\n",
    "}"
   ]
  },
  {
   "cell_type": "markdown",
   "id": "ff182b39",
   "metadata": {},
   "source": [
    "### Problème actuel\n",
    "\n",
    "Problème de selection de pivot en parallèle qui ne trouve pas parfois la bonne ligne maximum de pivot et qui donc fait un échange de ligne incorrect. Les résulats finaux sont alors faussées. De plus, travaillant sur un petit GPU nous manquons de mémoire partagée ainsi que de nombre de threads afin d'effectuer la recherche de pivot ainsi que l'elimination de façons efficace pour de plus grande matrice. "
   ]
  },
  {
   "cell_type": "markdown",
   "id": "b84d0c6d",
   "metadata": {},
   "source": [
    "# Quelques résultats\n",
    "\n",
    "|   Taille des matrices   |   Sequentielle |   Parallèle (8 Threads) | CUDA |\n",
    "|---    |:-:    |:-:    |--:    |\n",
    "|   2   |   0.000001     |   0.004984 |   0.000508 |\n",
    "|   4   |   0.000001     |   0.004063 |   0.000699 |\n",
    "|   8   |   0.000004     |   0.012294 |   0.000943 |\n",
    "|   16   |   0.000016    |   0.000472 |   0.002042 |\n",
    "|   32   |   0.000068    |   0.000318 |   0.003801 |\n",
    "|   64   |   0.000597    |   0.002587 |   0.009965 |\n",
    "|   128   |   0.003394   |   0.011277 |   0.030781 |\n",
    "|   256   |   0.030089   |   0.058987 |   0.232541 |\n",
    "|   512   |   0.212622   |   0.352585 |   2.264164 |"
   ]
  }
 ],
 "metadata": {
  "kernelspec": {
   "display_name": "Python 3",
   "language": "python",
   "name": "python3"
  },
  "language_info": {
   "codemirror_mode": {
    "name": "ipython",
    "version": 3
   },
   "file_extension": ".py",
   "mimetype": "text/x-python",
   "name": "python",
   "nbconvert_exporter": "python",
   "pygments_lexer": "ipython3",
   "version": "3.8.6"
  }
 },
 "nbformat": 4,
 "nbformat_minor": 5
}
